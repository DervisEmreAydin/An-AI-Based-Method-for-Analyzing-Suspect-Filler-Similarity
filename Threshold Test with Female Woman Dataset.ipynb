{
 "cells": [
  {
   "cell_type": "code",
   "execution_count": 5,
   "metadata": {},
   "outputs": [],
   "source": [
    "import pandas as pd\n",
    "import itertools\n",
    "from sklearn.metrics import confusion_matrix\n",
    "from tqdm import tqdm\n",
    "tqdm.pandas()"
   ]
  },
  {
   "cell_type": "markdown",
   "metadata": {},
   "source": [
    "# Summary\n",
    "\n",
    "The Deepface framework we used in our study also uses the OpenCv library during the face detection phase. In the process of recognition and vector expression of the face, it uses deep learning-based facial recognition models (Serengil &Özpinar, 2020). Face recognition models are regular convolutional neural networks models. They represent face photos as vectors. We find the distance between these two vectors to compare two faces. Finally, we classify two faces as same person whose distance is less than a threshold value(Serengil, 2020b).\n",
    "\n",
    "In this notebook which is prepared by Serengil(2020b), we will find the best split point for a threshold with teh Mix Data Set.\n",
    "\n",
    "For the original notebook, see:\n",
    "https://github.com/serengil/deepface/blob/master/tests/Fine-Tuning-Threshold.ipynb"
   ]
  },
  {
   "cell_type": "markdown",
   "metadata": {},
   "source": [
    "# Data set"
   ]
  },
  {
   "cell_type": "code",
   "execution_count": 6,
   "metadata": {},
   "outputs": [],
   "source": [
    "idendities = {\n",
    "    \"Laura Harrier\": [\"img1.jpg\", \"img2.jpg\", \"img3.jpg\", \"img4.jpg\"],\n",
    "    \"Zendaya\": [\"img5.jpg\", \"img6.jpg\", \"img7.jpg\", \"img8.jpg\"],\n",
    "    \"Oprah Winfrey\": [\"img9.jpg\", \"img10.jpg\", \"img11.jpg\", \"img12.jpg\"],\n",
    "    \"Zoe Saldana\": [\"img13.jpg\", \"img14.jpg\", \"img15.jpg\", \"img16.jpg\"],\n",
    "    \"Halle Berry\":[\"img17.jpg\", \"img18.jpg\", \"img19.jpg\", \"img20.jpg\"],\n",
    "    \"Viola Davis\": [\"img21.jpg\", \"img22.jpg\", \"img23.jpg\", \"img24.jpg\"],\n",
    "    \"Octavia Spencer\": [\"img25.jpg\", \"img26.jpg\", \"img27.jpg\", \"img28.jpg\"],\n",
    "    \"Rihanna\": [\"img29.jpg\", \"img30.jpg\", \"img31.jpg\", \"img32.jpg\"],\n",
    "    \"Javicia Leslie\": [\"img33.jpg\", \"img34.jpg\", \"img35.jpg\", \"img36.jpg\"],\n",
    "    \"Lashana lynch\": [\"img37.jpg\", \"img38.jpg\", \"img39.jpg\", \"img40.jpg\"],\n",
    "    \"Tessa Thompson\": [\"img41.jpg\", \"img42.jpg\", \"img43.jpg\", \"img44.jpg\"],\n",
    "    \"Damaris Lewis\": [\"img45.jpg\", \"img46.jpg\", \"img47.jpg\", \"img48.jpg\"]\n",
    "}\n"
   ]
  },
  {
   "cell_type": "markdown",
   "metadata": {},
   "source": [
    "# Positive samples\n",
    "Find different photos of same people"
   ]
  },
  {
   "cell_type": "code",
   "execution_count": 7,
   "metadata": {},
   "outputs": [],
   "source": [
    "positives = []\n",
    "\n",
    "for key, values in idendities.items():\n",
    "    \n",
    "    #print(key)\n",
    "    for i in range(0, len(values)-1):\n",
    "        for j in range(i+1, len(values)):\n",
    "            #print(values[i], \" and \", values[j])\n",
    "            positive = []\n",
    "            positive.append(values[i])\n",
    "            positive.append(values[j])\n",
    "            positives.append(positive)"
   ]
  },
  {
   "cell_type": "code",
   "execution_count": 8,
   "metadata": {},
   "outputs": [],
   "source": [
    "positives = pd.DataFrame(positives, columns = [\"file_x\", \"file_y\"])\n",
    "positives[\"decision\"] = \"Yes\""
   ]
  },
  {
   "cell_type": "markdown",
   "metadata": {},
   "source": [
    "# Negative samples\n",
    "Compare photos of different people"
   ]
  },
  {
   "cell_type": "code",
   "execution_count": 9,
   "metadata": {},
   "outputs": [],
   "source": [
    "samples_list = list(idendities.values())"
   ]
  },
  {
   "cell_type": "code",
   "execution_count": 10,
   "metadata": {},
   "outputs": [],
   "source": [
    "negatives = []\n",
    "\n",
    "for i in range(0, len(idendities) - 1):\n",
    "    for j in range(i+1, len(idendities)):\n",
    "        #print(samples_list[i], \" vs \",samples_list[j]) \n",
    "        cross_product = itertools.product(samples_list[i], samples_list[j])\n",
    "        cross_product = list(cross_product)\n",
    "        #print(cross_product)\n",
    "        \n",
    "        for cross_sample in cross_product:\n",
    "            #print(cross_sample[0], \" vs \", cross_sample[1])\n",
    "            negative = []\n",
    "            negative.append(cross_sample[0])\n",
    "            negative.append(cross_sample[1])\n",
    "            negatives.append(negative)\n",
    "        "
   ]
  },
  {
   "cell_type": "code",
   "execution_count": 11,
   "metadata": {},
   "outputs": [],
   "source": [
    "negatives = pd.DataFrame(negatives, columns = [\"file_x\", \"file_y\"])\n",
    "negatives[\"decision\"] = \"No\""
   ]
  },
  {
   "cell_type": "markdown",
   "metadata": {},
   "source": [
    "# Merge Positives and Negative Samples"
   ]
  },
  {
   "cell_type": "code",
   "execution_count": 12,
   "metadata": {},
   "outputs": [],
   "source": [
    "df = pd.concat([positives, negatives]).reset_index(drop = True)"
   ]
  },
  {
   "cell_type": "code",
   "execution_count": 13,
   "metadata": {},
   "outputs": [
    {
     "data": {
      "text/plain": [
       "(1128, 3)"
      ]
     },
     "execution_count": 13,
     "metadata": {},
     "output_type": "execute_result"
    }
   ],
   "source": [
    "df.shape"
   ]
  },
  {
   "cell_type": "code",
   "execution_count": 14,
   "metadata": {},
   "outputs": [
    {
     "data": {
      "text/plain": [
       "No     1056\n",
       "Yes      72\n",
       "Name: decision, dtype: int64"
      ]
     },
     "execution_count": 14,
     "metadata": {},
     "output_type": "execute_result"
    }
   ],
   "source": [
    "df.decision.value_counts()"
   ]
  },
  {
   "cell_type": "code",
   "execution_count": 15,
   "metadata": {},
   "outputs": [],
   "source": [
    "df.file_x = \"black_woman_dataset/\"+df.file_x\n",
    "df.file_y = \"black_woman_dataset/\"+df.file_y"
   ]
  },
  {
   "cell_type": "markdown",
   "metadata": {},
   "source": [
    "# DeepFace"
   ]
  },
  {
   "cell_type": "code",
   "execution_count": 16,
   "metadata": {},
   "outputs": [],
   "source": [
    "from deepface import DeepFace"
   ]
  },
  {
   "cell_type": "code",
   "execution_count": 17,
   "metadata": {},
   "outputs": [],
   "source": [
    "instances = df[[\"file_x\", \"file_y\"]].values.tolist()"
   ]
  },
  {
   "cell_type": "code",
   "execution_count": 18,
   "metadata": {},
   "outputs": [],
   "source": [
    "model_name = \"VGG-Face\"\n",
    "distance_metric = \"cosine\""
   ]
  },
  {
   "cell_type": "code",
   "execution_count": 19,
   "metadata": {},
   "outputs": [
    {
     "name": "stderr",
     "output_type": "stream",
     "text": [
      "Verification: 100%|████████████████████████████████████████████████████████████████| 1128/1128 [30:54<00:00,  1.64s/it]\n"
     ]
    }
   ],
   "source": [
    "resp_obj = DeepFace.verify(instances, model_name = model_name, distance_metric = distance_metric)"
   ]
  },
  {
   "cell_type": "code",
   "execution_count": 24,
   "metadata": {},
   "outputs": [],
   "source": [
    "distances = []\n",
    "for i in range(0, len(instances)):\n",
    "    distance = round(resp_obj[\"pair_%s\" % (i+1)][\"distance\"], 4)\n",
    "    distances.append(distance)"
   ]
  },
  {
   "cell_type": "code",
   "execution_count": 25,
   "metadata": {},
   "outputs": [],
   "source": [
    "df[\"distance\"] = distances"
   ]
  },
  {
   "cell_type": "markdown",
   "metadata": {},
   "source": [
    "# Analyzing Distances"
   ]
  },
  {
   "cell_type": "code",
   "execution_count": 26,
   "metadata": {},
   "outputs": [],
   "source": [
    "tp_mean = round(df[df.decision == \"Yes\"].mean().values[0], 4)\n",
    "tp_std = round(df[df.decision == \"Yes\"].std().values[0], 4)\n",
    "fp_mean = round(df[df.decision == \"No\"].mean().values[0], 4)\n",
    "fp_std = round(df[df.decision == \"No\"].std().values[0], 4)"
   ]
  },
  {
   "cell_type": "code",
   "execution_count": 27,
   "metadata": {
    "scrolled": true
   },
   "outputs": [
    {
     "name": "stdout",
     "output_type": "stream",
     "text": [
      "Mean of true positives:  0.1754\n",
      "Std of true positives:  0.0649\n",
      "Mean of false positives:  0.4833\n",
      "Std of false positives:  0.0975\n"
     ]
    }
   ],
   "source": [
    "print(\"Mean of true positives: \", tp_mean)\n",
    "print(\"Std of true positives: \", tp_std)\n",
    "print(\"Mean of false positives: \", fp_mean)\n",
    "print(\"Std of false positives: \", fp_std)"
   ]
  },
  {
   "cell_type": "markdown",
   "metadata": {},
   "source": [
    "# Distribution"
   ]
  },
  {
   "cell_type": "code",
   "execution_count": 28,
   "metadata": {},
   "outputs": [
    {
     "data": {
      "text/plain": [
       "<AxesSubplot:ylabel='Density'>"
      ]
     },
     "execution_count": 28,
     "metadata": {},
     "output_type": "execute_result"
    },
    {
     "data": {
      "image/png": "[encoded data removed]",
      "text/plain": [
       "<Figure size 432x288 with 1 Axes>"
      ]
     },
     "metadata": {
      "needs_background": "light"
     },
     "output_type": "display_data"
    }
   ],
   "source": [
    "df[df.decision == \"Yes\"].distance.plot.kde()\n",
    "df[df.decision == \"No\"].distance.plot.kde()"
   ]
  },
  {
   "cell_type": "markdown",
   "metadata": {},
   "source": [
    "# Sigma"
   ]
  },
  {
   "cell_type": "code",
   "execution_count": 29,
   "metadata": {},
   "outputs": [
    {
     "name": "stdout",
     "output_type": "stream",
     "text": [
      "threshold:  0.383\n"
     ]
    }
   ],
   "source": [
    "sigma = 3\n",
    "#2 sigma corresponds 95.45% confidence, and 3 sigma corresponds 99.73% confidence\n",
    "\n",
    "#threshold = round(tp_mean + sigma * tp_std, 4)\n",
    "threshold = 0.383 #comes from c4.5 algorithm\n",
    "print(\"threshold: \", threshold)"
   ]
  },
  {
   "cell_type": "code",
   "execution_count": 30,
   "metadata": {},
   "outputs": [
    {
     "data": {
      "text/plain": [
       "0.3287"
      ]
     },
     "execution_count": 30,
     "metadata": {},
     "output_type": "execute_result"
    }
   ],
   "source": [
    "df[df.decision == 'Yes'].distance.max()"
   ]
  },
  {
   "cell_type": "code",
   "execution_count": 31,
   "metadata": {},
   "outputs": [
    {
     "data": {
      "text/plain": [
       "0.1986"
      ]
     },
     "execution_count": 31,
     "metadata": {},
     "output_type": "execute_result"
    }
   ],
   "source": [
    "df[df.decision == 'No'].distance.min()"
   ]
  },
  {
   "cell_type": "markdown",
   "metadata": {},
   "source": [
    "# Evaluation"
   ]
  },
  {
   "cell_type": "code",
   "execution_count": 32,
   "metadata": {},
   "outputs": [],
   "source": [
    "df[\"prediction\"] = \"No\""
   ]
  },
  {
   "cell_type": "code",
   "execution_count": 33,
   "metadata": {},
   "outputs": [],
   "source": [
    "idx = df[df.distance <= threshold].index\n",
    "df.loc[idx, 'prediction'] = 'Yes'"
   ]
  },
  {
   "cell_type": "code",
   "execution_count": 34,
   "metadata": {
    "scrolled": true
   },
   "outputs": [
    {
     "data": {
      "text/html": [
       "<div>\n",
       "<style scoped>\n",
       "    .dataframe tbody tr th:only-of-type {\n",
       "        vertical-align: middle;\n",
       "    }\n",
       "\n",
       "    .dataframe tbody tr th {\n",
       "        vertical-align: top;\n",
       "    }\n",
       "\n",
       "    .dataframe thead th {\n",
       "        text-align: right;\n",
       "    }\n",
       "</style>\n",
       "<table border=\"1\" class=\"dataframe\">\n",
       "  <thead>\n",
       "    <tr style=\"text-align: right;\">\n",
       "      <th></th>\n",
       "      <th>file_x</th>\n",
       "      <th>file_y</th>\n",
       "      <th>decision</th>\n",
       "      <th>distance</th>\n",
       "      <th>prediction</th>\n",
       "    </tr>\n",
       "  </thead>\n",
       "  <tbody>\n",
       "    <tr>\n",
       "      <th>0</th>\n",
       "      <td>black_woman_dataset/img1.jpg</td>\n",
       "      <td>black_woman_dataset/img2.jpg</td>\n",
       "      <td>Yes</td>\n",
       "      <td>0.1874</td>\n",
       "      <td>Yes</td>\n",
       "    </tr>\n",
       "    <tr>\n",
       "      <th>1</th>\n",
       "      <td>black_woman_dataset/img1.jpg</td>\n",
       "      <td>black_woman_dataset/img3.jpg</td>\n",
       "      <td>Yes</td>\n",
       "      <td>0.1283</td>\n",
       "      <td>Yes</td>\n",
       "    </tr>\n",
       "    <tr>\n",
       "      <th>2</th>\n",
       "      <td>black_woman_dataset/img1.jpg</td>\n",
       "      <td>black_woman_dataset/img4.jpg</td>\n",
       "      <td>Yes</td>\n",
       "      <td>0.1408</td>\n",
       "      <td>Yes</td>\n",
       "    </tr>\n",
       "    <tr>\n",
       "      <th>3</th>\n",
       "      <td>black_woman_dataset/img2.jpg</td>\n",
       "      <td>black_woman_dataset/img3.jpg</td>\n",
       "      <td>Yes</td>\n",
       "      <td>0.1472</td>\n",
       "      <td>Yes</td>\n",
       "    </tr>\n",
       "    <tr>\n",
       "      <th>4</th>\n",
       "      <td>black_woman_dataset/img2.jpg</td>\n",
       "      <td>black_woman_dataset/img4.jpg</td>\n",
       "      <td>Yes</td>\n",
       "      <td>0.0822</td>\n",
       "      <td>Yes</td>\n",
       "    </tr>\n",
       "  </tbody>\n",
       "</table>\n",
       "</div>"
      ],
      "text/plain": [
       "                         file_x                        file_y decision  \\\n",
       "0  black_woman_dataset/img1.jpg  black_woman_dataset/img2.jpg      Yes   \n",
       "1  black_woman_dataset/img1.jpg  black_woman_dataset/img3.jpg      Yes   \n",
       "2  black_woman_dataset/img1.jpg  black_woman_dataset/img4.jpg      Yes   \n",
       "3  black_woman_dataset/img2.jpg  black_woman_dataset/img3.jpg      Yes   \n",
       "4  black_woman_dataset/img2.jpg  black_woman_dataset/img4.jpg      Yes   \n",
       "\n",
       "   distance prediction  \n",
       "0    0.1874        Yes  \n",
       "1    0.1283        Yes  \n",
       "2    0.1408        Yes  \n",
       "3    0.1472        Yes  \n",
       "4    0.0822        Yes  "
      ]
     },
     "execution_count": 34,
     "metadata": {},
     "output_type": "execute_result"
    }
   ],
   "source": [
    "df.head(5)"
   ]
  },
  {
   "cell_type": "code",
   "execution_count": 35,
   "metadata": {},
   "outputs": [],
   "source": [
    "cm = confusion_matrix(df.decision.values, df.prediction.values)"
   ]
  },
  {
   "cell_type": "code",
   "execution_count": 36,
   "metadata": {},
   "outputs": [
    {
     "data": {
      "text/plain": [
       "array([[876, 180],\n",
       "       [  0,  72]], dtype=int64)"
      ]
     },
     "execution_count": 36,
     "metadata": {},
     "output_type": "execute_result"
    }
   ],
   "source": [
    "cm"
   ]
  },
  {
   "cell_type": "code",
   "execution_count": 37,
   "metadata": {},
   "outputs": [],
   "source": [
    "tn, fp, fn, tp = cm.ravel()"
   ]
  },
  {
   "cell_type": "code",
   "execution_count": 38,
   "metadata": {},
   "outputs": [
    {
     "data": {
      "text/plain": [
       "(876, 180, 0, 72)"
      ]
     },
     "execution_count": 38,
     "metadata": {},
     "output_type": "execute_result"
    }
   ],
   "source": [
    "tn, fp, fn, tp"
   ]
  },
  {
   "cell_type": "code",
   "execution_count": 39,
   "metadata": {},
   "outputs": [],
   "source": [
    "recall = tp / (tp + fn)\n",
    "precision = tp / (tp + fp)\n",
    "accuracy = (tp + tn)/(tn + fp +  fn + tp)\n",
    "f1 = 2 * (precision * recall) / (precision + recall)"
   ]
  },
  {
   "cell_type": "code",
   "execution_count": 40,
   "metadata": {
    "scrolled": true
   },
   "outputs": [
    {
     "name": "stdout",
     "output_type": "stream",
     "text": [
      "Precision:  28.57142857142857 %\n",
      "Recall:  100.0 %\n",
      "F1 score  44.44444444444445 %\n",
      "Accuracy:  84.04255319148936 %\n"
     ]
    }
   ],
   "source": [
    "print(\"Precision: \", 100*precision,\"%\")\n",
    "print(\"Recall: \", 100*recall,\"%\")\n",
    "print(\"F1 score \",100*f1, \"%\")\n",
    "print(\"Accuracy: \", 100*accuracy,\"%\")"
   ]
  },
  {
   "cell_type": "code",
   "execution_count": 41,
   "metadata": {},
   "outputs": [],
   "source": [
    "df.to_csv(\"threshold_pivot.csv\", index = False)"
   ]
  },
  {
   "cell_type": "markdown",
   "metadata": {},
   "source": [
    "## Test results\n",
    "\n",
    "### Threshold = 0.199 \n",
    "\n",
    "Precision:  98.07%\n",
    "Recall:  70.83 %\n",
    "F1 score   82.25 %\n",
    "Accuracy:  98.04% \n",
    "\n",
    "### Threshold =  0.2473 (1 sigma)\n",
    "\n",
    "Precision:  95.08 %\n",
    "Recall:  80.55 %\n",
    "F1 score  87.21 %\n",
    "Accuracy:  98.49 % \n",
    "\n",
    "### Threshold =  0.3083 (2 sigma)\n",
    "\n",
    "Precision:  67.64 %\n",
    "Recall:  95.83 %\n",
    "F1 score  79.31 %\n",
    "Accuracy:  96.80 % \n",
    "\n",
    "### Threshold =  0.3693 (3 sigma)\n",
    "\n",
    "Precision:  33.02 %\n",
    "Recall:  100.0 %\n",
    "F1 score  49.65 %\n",
    "Accuracy:  87.05 %\n",
    "\n",
    "### Threshold =  0.383 \n",
    "\n",
    "Precision:  28.57%\n",
    "Recall:  100.0 %\n",
    "F1 score  44.44 %\n",
    "Accuracy:  84.04%\n"
   ]
  },
  {
   "cell_type": "code",
   "execution_count": null,
   "metadata": {},
   "outputs": [],
   "source": []
  }
 ],
 "metadata": {
  "kernelspec": {
   "display_name": "Python 3 (ipykernel)",
   "language": "python",
   "name": "python3"
  },
  "language_info": {
   "codemirror_mode": {
    "name": "ipython",
    "version": 3
   },
   "file_extension": ".py",
   "mimetype": "text/x-python",
   "name": "python",
   "nbconvert_exporter": "python",
   "pygments_lexer": "ipython3",
   "version": "3.9.7"
  }
 },
 "nbformat": 4,
 "nbformat_minor": 2
}
